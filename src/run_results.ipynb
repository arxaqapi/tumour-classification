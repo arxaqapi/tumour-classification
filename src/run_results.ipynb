{
  "cells": [
    {
      "cell_type": "code",
      "execution_count": 5,
      "metadata": {
        "id": "FRYhtcuTKdfM"
      },
      "outputs": [],
      "source": [
        "import numpy as np\n",
        "import pandas as pd\n",
        "import matplotlib.pyplot as plt\n",
        "import seaborn as sns\n",
        "sns.set_theme()\n",
        "\n",
        "from pathlib import Path\n",
        "import pickle"
      ]
    },
    {
      "cell_type": "code",
      "execution_count": 6,
      "metadata": {
        "id": "QiaVbKiUHv9J"
      },
      "outputs": [],
      "source": [
        "dataset_path = Path('../data/dataset_extracted_20200729_tma_ctrl_cc-chc_sans_normalisation.pkl')\n",
        "assert dataset_path.exists()"
      ]
    },
    {
      "cell_type": "code",
      "execution_count": null,
      "metadata": {
        "id": "hVk5HRq_LKOE"
      },
      "outputs": [],
      "source": [
        "def load_data(path):\n",
        "  if path.exists():\n",
        "    with open(dataset_path, 'rb') as data_pkl_f:\n",
        "      X_train, X_test, y_train, y_test = pickle.load(data_pkl_f)\n",
        "      return X_train, X_test, y_train, y_test\n",
        "  return None, None, None, None"
      ]
    },
    {
      "cell_type": "code",
      "execution_count": null,
      "metadata": {
        "id": "9gW7PIwfMBb5"
      },
      "outputs": [],
      "source": [
        "dataset = load_data(dataset_path)"
      ]
    },
    {
      "cell_type": "code",
      "execution_count": null,
      "metadata": {
        "colab": {
          "base_uri": "https://localhost:8080/"
        },
        "id": "Fb1phTxNMFGf",
        "outputId": "399d01aa-a82c-4e19-88c3-1f238e1a098e"
      },
      "outputs": [
        {
          "data": {
            "text/plain": [
              "(5349, 32320)"
            ]
          },
          "execution_count": 6,
          "metadata": {},
          "output_type": "execute_result"
        }
      ],
      "source": [
        "X_train, X_test, y_train, y_test = dataset\n",
        "\n",
        "X_train.shape"
      ]
    },
    {
      "cell_type": "code",
      "execution_count": null,
      "metadata": {
        "colab": {
          "base_uri": "https://localhost:8080/"
        },
        "id": "sYdj-bKZMMA8",
        "outputId": "62450bf9-34be-4bb2-d71b-c853089d4338"
      },
      "outputs": [
        {
          "data": {
            "text/plain": [
              "(array(['cc', 'chc'], dtype='<U3'), array(['cc', 'chc'], dtype='<U3'))"
            ]
          },
          "execution_count": 7,
          "metadata": {},
          "output_type": "execute_result"
        }
      ],
      "source": [
        "# gestion de l'encodage des labels\n",
        "from sklearn.preprocessing import LabelEncoder\n",
        "\n",
        "encoder = LabelEncoder()\n",
        "encoder.fit(y_train)\n",
        "\n",
        "encoder.classes_, np.unique(y_test)"
      ]
    },
    {
      "cell_type": "code",
      "execution_count": null,
      "metadata": {
        "id": "tQweN25mOpSD"
      },
      "outputs": [],
      "source": [
        "\n",
        "# reshape data\n",
        "input_shape = (None, X_train.shape[1], 1, 1)\n",
        "\n",
        "X_train = X_train.reshape(((-1,) + input_shape[1:]))\n",
        "X_test = X_test.reshape(((-1,) + input_shape[1:]))\n",
        "\n",
        "y_train = encoder.transform(y_train)\n",
        "y_test = encoder.transform(y_test)"
      ]
    },
    {
      "cell_type": "code",
      "execution_count": null,
      "metadata": {
        "colab": {
          "base_uri": "https://localhost:8080/"
        },
        "id": "FV1VyNKfajZJ",
        "outputId": "7acaa310-f693-46a0-d971-cc6b265fd6f1"
      },
      "outputs": [
        {
          "name": "stdout",
          "output_type": "stream",
          "text": [
            "[0 0 1 0 1 0 0 1 0 0]\n"
          ]
        }
      ],
      "source": [
        "print(y_train[:10])"
      ]
    },
    {
      "cell_type": "markdown",
      "metadata": {
        "id": "YVdSDOLBHnq7"
      },
      "source": [
        "Répartition des classe au sein du dataset (y_train)"
      ]
    },
    {
      "cell_type": "code",
      "execution_count": null,
      "metadata": {
        "colab": {
          "base_uri": "https://localhost:8080/",
          "height": 302
        },
        "id": "rUnEs9QVJI_4",
        "outputId": "36fb148a-ab28-46b9-8cd4-8e1fe318f695"
      },
      "outputs": [
        {
          "data": {
            "text/plain": [
              "<matplotlib.axes._subplots.AxesSubplot at 0x7f0605eef690>"
            ]
          },
          "execution_count": 53,
          "metadata": {},
          "output_type": "execute_result"
        },
        {
          "data": {
            "image/png": "[encoded data removed]",
            "text/plain": [
              "<Figure size 432x288 with 1 Axes>"
            ]
          },
          "metadata": {},
          "output_type": "display_data"
        }
      ],
      "source": [
        "df = pd.DataFrame({\n",
        "    \"labels\": encoder.classes_,\n",
        "    \"instances\": [ np.count_nonzero(y_train == 0), np.count_nonzero(y_train == 1) ]\n",
        "})\n",
        "sns.barplot(data=df, x=\"labels\", y=\"instances\")"
      ]
    },
    {
      "cell_type": "markdown",
      "metadata": {
        "id": "ZBkz7dOzM9gR"
      },
      "source": [
        "Répartition des classe au sein du dataset (test)"
      ]
    },
    {
      "cell_type": "code",
      "execution_count": null,
      "metadata": {
        "colab": {
          "base_uri": "https://localhost:8080/",
          "height": 302
        },
        "id": "3OdgmqP0M11i",
        "outputId": "a8da9ff2-544a-4e36-f2b1-887d2d7e27fa"
      },
      "outputs": [
        {
          "data": {
            "text/plain": [
              "<matplotlib.axes._subplots.AxesSubplot at 0x7f0605ea5f50>"
            ]
          },
          "execution_count": 54,
          "metadata": {},
          "output_type": "execute_result"
        },
        {
          "data": {
            "image/png": "[encoded data removed]",
            "text/plain": [
              "<Figure size 432x288 with 1 Axes>"
            ]
          },
          "metadata": {},
          "output_type": "display_data"
        }
      ],
      "source": [
        "df = pd.DataFrame({\n",
        "    \"labels\": encoder.classes_,\n",
        "    \"instances\": [ np.count_nonzero(y_test == 0), np.count_nonzero(y_test == 1) ]\n",
        "})\n",
        "sns.barplot(data=df, x=\"labels\", y=\"instances\")"
      ]
    },
    {
      "cell_type": "markdown",
      "metadata": {
        "id": "q65cKU7KQftM"
      },
      "source": [
        "---"
      ]
    },
    {
      "cell_type": "code",
      "execution_count": 2,
      "metadata": {
        "id": "SG0qnEPNQf9p"
      },
      "outputs": [],
      "source": [
        "from IsotopeNet import IsotopeNet"
      ]
    },
    {
      "cell_type": "code",
      "execution_count": null,
      "metadata": {
        "id": "C0x7LFHtQ0hY"
      },
      "outputs": [],
      "source": [
        "from keras.losses import SparseCategoricalCrossentropy\n",
        "from tensorflow.keras.optimizers import Adam\n",
        "\n",
        "# https://stats.stackexchange.com/questions/326065/cross-entropy-vs-sparse-cross-entropy-when-to-use-one-over-the-other\n",
        "\n",
        "OPTIM = Adam(learning_rate=0.01)\n",
        "LOSS = SparseCategoricalCrossentropy()"
      ]
    },
    {
      "cell_type": "code",
      "execution_count": null,
      "metadata": {
        "colab": {
          "base_uri": "https://localhost:8080/"
        },
        "id": "14AaWDGsQ9I0",
        "outputId": "fe324e48-908b-4017-f06c-a70ac176c552"
      },
      "outputs": [
        {
          "name": "stdout",
          "output_type": "stream",
          "text": [
            "Model: \"IsotopeNet\"\n",
            "_________________________________________________________________\n",
            " Layer (type)                Output Shape              Param #   \n",
            "=================================================================\n",
            " residual_layer (ResidualLay  multiple                 280       \n",
            " er)                                                             \n",
            "                                                                 \n",
            " residual_layer_1 (ResidualL  multiple                 640       \n",
            " ayer)                                                           \n",
            "                                                                 \n",
            " residual_layer_2 (ResidualL  multiple                 448       \n",
            " ayer)                                                           \n",
            "                                                                 \n",
            " residual_layer_3 (ResidualL  multiple                 59        \n",
            " ayer)                                                           \n",
            "                                                                 \n",
            " sequential (Sequential)     (None, 2)                 17214     \n",
            "                                                                 \n",
            "=================================================================\n",
            "Total params: 18,641\n",
            "Trainable params: 18,539\n",
            "Non-trainable params: 102\n",
            "_________________________________________________________________\n"
          ]
        }
      ],
      "source": [
        "isotope_model = IsotopeNet()\n",
        "isotope_model.build(input_shape=input_shape)\n",
        "isotope_model.summary()\n",
        "\n",
        "isotope_model.compile(\n",
        "  optimizer=OPTIM,\n",
        "  loss=LOSS,\n",
        "  metrics=['accuracy', 'sparse_categorical_accuracy']\n",
        ")"
      ]
    },
    {
      "cell_type": "code",
      "execution_count": null,
      "metadata": {
        "colab": {
          "base_uri": "https://localhost:8080/"
        },
        "id": "zy2GWHHORPSP",
        "outputId": "02efcf8a-6846-4083-8eda-2a1526f5ba4e"
      },
      "outputs": [
        {
          "name": "stdout",
          "output_type": "stream",
          "text": [
            "Epoch 1/5\n",
            "168/168 [==============================] - 420s 2s/step - loss: 0.3466 - accuracy: 0.9033 - sparse_categorical_accuracy: 0.9033 - val_loss: 0.2493 - val_accuracy: 0.9126 - val_sparse_categorical_accuracy: 0.9126\n",
            "Epoch 2/5\n",
            "168/168 [==============================] - 333s 2s/step - loss: 0.1917 - accuracy: 0.9297 - sparse_categorical_accuracy: 0.9297 - val_loss: 0.2092 - val_accuracy: 0.9268 - val_sparse_categorical_accuracy: 0.9268\n",
            "Epoch 3/5\n",
            "168/168 [==============================] - 328s 2s/step - loss: 0.1904 - accuracy: 0.9319 - sparse_categorical_accuracy: 0.9319 - val_loss: 0.1966 - val_accuracy: 0.9238 - val_sparse_categorical_accuracy: 0.9238\n",
            "Epoch 4/5\n",
            "168/168 [==============================] - 326s 2s/step - loss: 0.1782 - accuracy: 0.9355 - sparse_categorical_accuracy: 0.9355 - val_loss: 0.1710 - val_accuracy: 0.9365 - val_sparse_categorical_accuracy: 0.9365\n",
            "Epoch 5/5\n",
            "168/168 [==============================] - 358s 2s/step - loss: 0.1586 - accuracy: 0.9424 - sparse_categorical_accuracy: 0.9424 - val_loss: 0.1396 - val_accuracy: 0.9552 - val_sparse_categorical_accuracy: 0.9552\n"
          ]
        }
      ],
      "source": [
        "history = isotope_model.fit(\n",
        "    x=X_train,\n",
        "    y=y_train,\n",
        "    batch_size=32,\n",
        "    epochs=5,\n",
        "    validation_data=(X_test, y_test)\n",
        ")"
      ]
    },
    {
      "cell_type": "code",
      "execution_count": null,
      "metadata": {
        "colab": {
          "base_uri": "https://localhost:8080/"
        },
        "id": "LFTUzYXqAtCy",
        "outputId": "17040a90-55d2-4577-c437-fb626d4eef92"
      },
      "outputs": [
        {
          "name": "stderr",
          "output_type": "stream",
          "text": [
            "WARNING:absl:Found untraced functions such as conv2d_layer_call_fn, conv2d_layer_call_and_return_conditional_losses, conv2d_1_layer_call_fn, conv2d_1_layer_call_and_return_conditional_losses, lambda_layer_call_fn while saving (showing 5 of 32). These functions will not be directly callable after loading.\n"
          ]
        },
        {
          "name": "stdout",
          "output_type": "stream",
          "text": [
            "INFO:tensorflow:Assets written to: drive/MyDrive/Colab Notebooks/models/isotope_small_trained/assets\n"
          ]
        },
        {
          "name": "stderr",
          "output_type": "stream",
          "text": [
            "INFO:tensorflow:Assets written to: drive/MyDrive/Colab Notebooks/models/isotope_small_trained/assets\n"
          ]
        }
      ],
      "source": [
        "isotope_model.save('src/models/isotope_small_trained') # isotope_model.load_model(...)"
      ]
    },
    {
      "cell_type": "code",
      "execution_count": null,
      "metadata": {
        "colab": {
          "base_uri": "https://localhost:8080/",
          "height": 298
        },
        "id": "qXUHA3xGhfeE",
        "outputId": "29dc15e5-e67c-49e8-b4e6-5f021e8da096"
      },
      "outputs": [
        {
          "data": {
            "text/plain": [
              "Text(0.5, 1.0, 'loss per epochs')"
            ]
          },
          "execution_count": 68,
          "metadata": {},
          "output_type": "execute_result"
        },
        {
          "data": {
            "image/png": "[encoded data removed]",
            "text/plain": [
              "<Figure size 432x288 with 1 Axes>"
            ]
          },
          "metadata": {},
          "output_type": "display_data"
        }
      ],
      "source": [
        "plt.plot(history.history['loss'])\n",
        "plt.plot(history.history['val_loss'])\n",
        "plt.title('loss per epochs')"
      ]
    },
    {
      "cell_type": "code",
      "execution_count": null,
      "metadata": {
        "colab": {
          "base_uri": "https://localhost:8080/",
          "height": 298
        },
        "id": "tYwefmvHoDtn",
        "outputId": "01607ca6-cbef-4e8f-910a-579fe31744e6"
      },
      "outputs": [
        {
          "data": {
            "text/plain": [
              "Text(0.5, 1.0, 'accuracy per epochs')"
            ]
          },
          "execution_count": 69,
          "metadata": {},
          "output_type": "execute_result"
        },
        {
          "data": {
            "image/png": "[encoded data removed]",
            "text/plain": [
              "<Figure size 432x288 with 1 Axes>"
            ]
          },
          "metadata": {},
          "output_type": "display_data"
        }
      ],
      "source": [
        "plt.plot(history.history['val_accuracy'])\n",
        "plt.plot(history.history['accuracy'])\n",
        "plt.title('accuracy per epochs')"
      ]
    },
    {
      "cell_type": "code",
      "execution_count": null,
      "metadata": {
        "colab": {
          "base_uri": "https://localhost:8080/"
        },
        "id": "EyWlCRp-SgZN",
        "outputId": "aca17819-7b83-466b-b394-82cc2051ad6f"
      },
      "outputs": [
        {
          "name": "stdout",
          "output_type": "stream",
          "text": [
            "42/42 [==============================] - 18s 428ms/step - loss: 0.1396 - accuracy: 0.9552 - sparse_categorical_accuracy: 0.9552\n",
            "Test loss: 0.13963040709495544 / Test accuracy: 0.9551569223403931\n"
          ]
        }
      ],
      "source": [
        "eval_history = isotope_model.evaluate(X_test, y_test)\n",
        "print(f'Test loss: {eval_history[0]} / Test accuracy: {eval_history[1]}')\n"
      ]
    },
    {
      "cell_type": "code",
      "execution_count": null,
      "metadata": {
        "colab": {
          "base_uri": "https://localhost:8080/"
        },
        "id": "GM95gpLTDVJS",
        "outputId": "43e880f7-2a47-4760-eef2-c59a8de5cb66"
      },
      "outputs": [
        {
          "name": "stdout",
          "output_type": "stream",
          "text": [
            "              precision    recall  f1-score   support\n",
            "\n",
            "          cc       0.95      0.97      0.96       717\n",
            "         chc       0.96      0.94      0.95       621\n",
            "\n",
            "    accuracy                           0.96      1338\n",
            "   macro avg       0.96      0.95      0.95      1338\n",
            "weighted avg       0.96      0.96      0.96      1338\n",
            "\n"
          ]
        }
      ],
      "source": [
        "from sklearn.metrics import classification_report\n",
        "\n",
        "print(classification_report(\n",
        "        y_true=y_test,\n",
        "        y_pred=isotope_model.predict(X_test).argmax(axis=1),\n",
        "        labels=encoder.transform(encoder.classes_),\n",
        "        target_names=encoder.classes_))\n"
      ]
    },
    {
      "cell_type": "markdown",
      "metadata": {
        "id": "2YDB4-T-HTSg"
      },
      "source": [
        "Comparaison des 10 premiers résultats"
      ]
    },
    {
      "cell_type": "code",
      "execution_count": null,
      "metadata": {
        "colab": {
          "base_uri": "https://localhost:8080/"
        },
        "id": "0eHAVB9zghie",
        "outputId": "b6a5f726-7f80-4208-cdb7-3c1889b9f748"
      },
      "outputs": [
        {
          "name": "stdout",
          "output_type": "stream",
          "text": [
            "y_pred\n",
            "[0 0 0 0 1 1 1 1 1 1]\n",
            "\n",
            "y_true\n",
            "[0 0 0 0 1 1 1 1 1 1]\n"
          ]
        }
      ],
      "source": [
        "# np.round(isotope_model.predict(X_test[:10]), 3).argmax(axis=1)\n",
        "print('y_pred')\n",
        "print(isotope_model.predict(X_test[:10]).argmax(axis=1))\n",
        "print('\\ny_true')\n",
        "print(y_test[:10])\n"
      ]
    },
    {
      "cell_type": "markdown",
      "metadata": {
        "id": "gq--a1Z-N3G1"
      },
      "source": [
        "# Entraînement du model ResNet à ~ 2.9M de paramètres\n"
      ]
    },
    {
      "cell_type": "code",
      "execution_count": 3,
      "metadata": {
        "id": "nXhDxTtVN7rP"
      },
      "outputs": [],
      "source": [
        "from ResidualNet import ResidualNet"
      ]
    },
    {
      "cell_type": "code",
      "execution_count": null,
      "metadata": {
        "colab": {
          "base_uri": "https://localhost:8080/"
        },
        "id": "p9RlbO6pOCDx",
        "outputId": "ecd3d282-900c-4f43-b34a-591f1463f8bb"
      },
      "outputs": [
        {
          "name": "stdout",
          "output_type": "stream",
          "text": [
            "Model: \"ResidualNet\"\n",
            "_________________________________________________________________\n",
            " Layer (type)                Output Shape              Param #   \n",
            "=================================================================\n",
            " sequential_1 (Sequential)   (None, 2, 1, 256)         2985936   \n",
            "                                                                 \n",
            " sequential_2 (Sequential)   (None, 2)                 514       \n",
            "                                                                 \n",
            "=================================================================\n",
            "Total params: 2,986,450\n",
            "Trainable params: 2,978,962\n",
            "Non-trainable params: 7,488\n",
            "_________________________________________________________________\n"
          ]
        }
      ],
      "source": [
        "resnet_model = ResidualNet()\n",
        "resnet_model.build(input_shape=input_shape)\n",
        "resnet_model.summary()\n",
        "\n",
        "resnet_model.compile(\n",
        "  optimizer=OPTIM,\n",
        "  loss=LOSS,\n",
        "  metrics=['accuracy', 'sparse_categorical_accuracy']\n",
        ")"
      ]
    },
    {
      "cell_type": "code",
      "execution_count": null,
      "metadata": {
        "colab": {
          "base_uri": "https://localhost:8080/"
        },
        "id": "GEhYgDzuOS6E",
        "outputId": "a486ac16-b45c-4446-ae12-667338644188"
      },
      "outputs": [
        {
          "name": "stdout",
          "output_type": "stream",
          "text": [
            "Epoch 1/5\n",
            "168/168 [==============================] - 2030s 12s/step - loss: 1153751187456.0000 - accuracy: 0.7014 - sparse_categorical_accuracy: 0.7014 - val_loss: 3991896320.0000 - val_accuracy: 0.6824 - val_sparse_categorical_accuracy: 0.6824\n",
            "Epoch 2/5\n",
            "168/168 [==============================] - 2015s 12s/step - loss: 642727936.0000 - accuracy: 0.8024 - sparse_categorical_accuracy: 0.8024 - val_loss: 331508384.0000 - val_accuracy: 0.7422 - val_sparse_categorical_accuracy: 0.7422\n",
            "Epoch 3/5\n",
            "168/168 [==============================] - 2057s 12s/step - loss: 250250944.0000 - accuracy: 0.8381 - sparse_categorical_accuracy: 0.8381 - val_loss: 163923776.0000 - val_accuracy: 0.7825 - val_sparse_categorical_accuracy: 0.7825\n",
            "Epoch 4/5\n",
            "168/168 [==============================] - 2056s 12s/step - loss: 231135200.0000 - accuracy: 0.8332 - sparse_categorical_accuracy: 0.8332 - val_loss: 166430592.0000 - val_accuracy: 0.8909 - val_sparse_categorical_accuracy: 0.8909\n",
            "Epoch 5/5\n",
            "168/168 [==============================] - 2036s 12s/step - loss: 148689344.0000 - accuracy: 0.8508 - sparse_categorical_accuracy: 0.8508 - val_loss: 118259784.0000 - val_accuracy: 0.8969 - val_sparse_categorical_accuracy: 0.8969\n"
          ]
        }
      ],
      "source": [
        "resnet_history = resnet_model.fit(\n",
        "    x=X_train,\n",
        "    y=y_train,\n",
        "    batch_size=32,\n",
        "    epochs=5,\n",
        "    validation_data=(X_test, y_test),\n",
        ")"
      ]
    },
    {
      "cell_type": "code",
      "execution_count": null,
      "metadata": {
        "colab": {
          "base_uri": "https://localhost:8080/",
          "height": 465
        },
        "id": "ZG_7E5Ml2zyQ",
        "outputId": "2d2593bf-1f5a-4481-ef0b-c317b866694c"
      },
      "outputs": [
        {
          "name": "stderr",
          "output_type": "stream",
          "text": [
            "/usr/local/lib/python3.7/dist-packages/sklearn/preprocessing/_data.py:236: UserWarning: Numerical issues were encountered when centering the data and might not be solved. Dataset may contain too large values. You may need to prescale your features.\n",
            "  \"Numerical issues were encountered \"\n"
          ]
        },
        {
          "data": {
            "text/plain": [
              "<matplotlib.legend.Legend at 0x7f06102dac90>"
            ]
          },
          "execution_count": 73,
          "metadata": {},
          "output_type": "execute_result"
        },
        {
          "data": {
            "image/png": "[encoded data removed]",
            "text/plain": [
              "<Figure size 1152x432 with 2 Axes>"
            ]
          },
          "metadata": {},
          "output_type": "display_data"
        }
      ],
      "source": [
        "from sklearn.preprocessing import scale\n",
        "\n",
        "# Note: sparse_categorical_accuracy and accuracy are the same\n",
        "\n",
        "plt.figure(figsize=(16, 6))\n",
        "\n",
        "plt.subplot(1, 2, 1)\n",
        "plt.plot(resnet_history.history['sparse_categorical_accuracy'], label='sparse_categorical_accuracy')\n",
        "plt.plot(resnet_history.history['val_sparse_categorical_accuracy'], label='val_sparse_categorical_accuracy', alpha=0.5)\n",
        "plt.title('Accuracy metrics over epochs')\n",
        "plt.legend()\n",
        "\n",
        "plt.subplot(1, 2, 2)\n",
        "plt.plot(scale(resnet_history.history['loss']), label='loss')\n",
        "plt.plot(scale(resnet_history.history['val_loss']), label='val_loss')\n",
        "plt.title('Loss metrics over epochs')\n",
        "plt.legend()\n"
      ]
    },
    {
      "cell_type": "markdown",
      "metadata": {
        "id": "EDusu7gC0kub"
      },
      "source": [
        "---\n",
        "# Utilisation du dataset complet"
      ]
    },
    {
      "cell_type": "code",
      "execution_count": 7,
      "metadata": {
        "id": "fILoVRAjOqSV"
      },
      "outputs": [],
      "source": [
        "large_dataset_path = Path('../data/large_dataset_extracted_20200729_tma_ctrl_cc-chc_sans_normalisation.pkl')\n",
        "assert large_dataset_path.exists()"
      ]
    },
    {
      "cell_type": "code",
      "execution_count": null,
      "metadata": {
        "id": "acyT5MIo00tn"
      },
      "outputs": [],
      "source": [
        "# X_train, X_test, y_train, y_test = None, None, None, None\n",
        "del X_train\n",
        "del X_test\n",
        "del y_train\n",
        "del y_test\n",
        "\n",
        "# large_dataset = load_data(large_dataset_path)"
      ]
    },
    {
      "cell_type": "code",
      "execution_count": null,
      "metadata": {
        "colab": {
          "base_uri": "https://localhost:8080/"
        },
        "id": "rTzeD7Dl0v__",
        "outputId": "106f516d-27d6-4bc6-e2a9-32bf383e9801"
      },
      "outputs": [
        {
          "name": "stdout",
          "output_type": "stream",
          "text": [
            "(19222, 32320)\n"
          ]
        }
      ],
      "source": [
        "with open(large_dataset_path, 'rb') as f:\n",
        "  X_tr, X_te, y_tr, y_te = pickle.load(f)\n",
        "\n",
        "X_train = X_tr\n",
        "X_test = X_te\n",
        "y_train = y_tr\n",
        "y_test = y_te\n",
        "\n",
        "print(X_train.shape)\n",
        "assert X_train.shape[0] > 5349"
      ]
    },
    {
      "cell_type": "code",
      "execution_count": null,
      "metadata": {
        "id": "AGlBEJYz5ttH"
      },
      "outputs": [],
      "source": [
        "X_train = X_train.reshape((-1, X_train.shape[1], 1, 1))\n",
        "X_test = X_test.reshape((-1, X_train.shape[1], 1, 1))\n",
        "\n",
        "y_train = encoder.transform(y_train)\n",
        "y_test = encoder.transform(y_test)"
      ]
    },
    {
      "cell_type": "code",
      "execution_count": null,
      "metadata": {
        "colab": {
          "base_uri": "https://localhost:8080/",
          "height": 302
        },
        "id": "WoowtWXu5n-C",
        "outputId": "c6e1fcef-2d3b-4b66-9363-274ca15e6d79"
      },
      "outputs": [
        {
          "data": {
            "text/plain": [
              "<matplotlib.axes._subplots.AxesSubplot at 0x7f05f999e310>"
            ]
          },
          "execution_count": 13,
          "metadata": {},
          "output_type": "execute_result"
        },
        {
          "data": {
            "image/png": "[encoded data removed]",
            "text/plain": [
              "<Figure size 432x288 with 1 Axes>"
            ]
          },
          "metadata": {},
          "output_type": "display_data"
        }
      ],
      "source": [
        "df = pd.DataFrame({\n",
        "    \"labels\": encoder.classes_,\n",
        "    \"instances\": [ np.count_nonzero(y_train == 0), np.count_nonzero(y_train == 1) ]\n",
        "})\n",
        "sns.barplot(data=df, x=\"labels\", y=\"instances\")"
      ]
    },
    {
      "cell_type": "code",
      "execution_count": null,
      "metadata": {
        "colab": {
          "base_uri": "https://localhost:8080/",
          "height": 302
        },
        "id": "Vi4q5hju6LWv",
        "outputId": "ce8ea12a-eb69-4de4-c393-c8f232fd2066"
      },
      "outputs": [
        {
          "data": {
            "text/plain": [
              "<matplotlib.axes._subplots.AxesSubplot at 0x7f05f918a5d0>"
            ]
          },
          "execution_count": 14,
          "metadata": {},
          "output_type": "execute_result"
        },
        {
          "data": {
            "image/png": "[encoded data removed]",
            "text/plain": [
              "<Figure size 432x288 with 1 Axes>"
            ]
          },
          "metadata": {},
          "output_type": "display_data"
        }
      ],
      "source": [
        "df = pd.DataFrame({\n",
        "    \"labels\": encoder.classes_,\n",
        "    \"instances\": [ np.count_nonzero(y_test == 0), np.count_nonzero(y_test == 1) ]\n",
        "})\n",
        "sns.barplot(data=df, x=\"labels\", y=\"instances\")"
      ]
    },
    {
      "cell_type": "code",
      "execution_count": null,
      "metadata": {
        "colab": {
          "base_uri": "https://localhost:8080/"
        },
        "id": "Cv_nVDmsADv3",
        "outputId": "45992c1d-28c6-4660-d28c-84499010c254"
      },
      "outputs": [
        {
          "name": "stdout",
          "output_type": "stream",
          "text": [
            "Model: \"IsotopeNet\"\n",
            "_________________________________________________________________\n",
            " Layer (type)                Output Shape              Param #   \n",
            "=================================================================\n",
            " residual_layer (ResidualLay  multiple                 280       \n",
            " er)                                                             \n",
            "                                                                 \n",
            " residual_layer_1 (ResidualL  multiple                 640       \n",
            " ayer)                                                           \n",
            "                                                                 \n",
            " residual_layer_2 (ResidualL  multiple                 448       \n",
            " ayer)                                                           \n",
            "                                                                 \n",
            " residual_layer_3 (ResidualL  multiple                 59        \n",
            " ayer)                                                           \n",
            "                                                                 \n",
            " sequential (Sequential)     (None, 2)                 17214     \n",
            "                                                                 \n",
            "=================================================================\n",
            "Total params: 18,641\n",
            "Trainable params: 18,539\n",
            "Non-trainable params: 102\n",
            "_________________________________________________________________\n"
          ]
        }
      ],
      "source": [
        "isotope_model_large_data = IsotopeNet()\n",
        "isotope_model_large_data.build(input_shape=(None, X_train.shape[1], 1, 1))\n",
        "isotope_model_large_data.summary()\n",
        "\n",
        "isotope_model_large_data.compile(\n",
        "  optimizer=OPTIM,\n",
        "  loss=LOSS,\n",
        "  metrics=['accuracy', 'sparse_categorical_accuracy']\n",
        ")"
      ]
    },
    {
      "cell_type": "code",
      "execution_count": null,
      "metadata": {
        "colab": {
          "background_save": true,
          "base_uri": "https://localhost:8080/"
        },
        "id": "euAzpp4aA4X0",
        "outputId": "43efc04a-09c7-4c24-c458-37e4f846a0ac"
      },
      "outputs": [
        {
          "name": "stdout",
          "output_type": "stream",
          "text": [
            "Epoch 1/5\n",
            "301/301 [==============================] - 1303s 4s/step - loss: 0.3485 - accuracy: 0.8979 - sparse_categorical_accuracy: 0.8979 - val_loss: 0.2010 - val_accuracy: 0.9272 - val_sparse_categorical_accuracy: 0.9272\n",
            "Epoch 2/5\n",
            "301/301 [==============================] - 1178s 4s/step - loss: 0.2038 - accuracy: 0.9307 - sparse_categorical_accuracy: 0.9307 - val_loss: 0.2011 - val_accuracy: 0.9251 - val_sparse_categorical_accuracy: 0.9251\n",
            "Epoch 3/5\n",
            "301/301 [==============================] - 1165s 4s/step - loss: 0.1848 - accuracy: 0.9351 - sparse_categorical_accuracy: 0.9351 - val_loss: 0.1438 - val_accuracy: 0.9469 - val_sparse_categorical_accuracy: 0.9469\n",
            "Epoch 4/5\n",
            "301/301 [==============================] - 1166s 4s/step - loss: 0.1658 - accuracy: 0.9393 - sparse_categorical_accuracy: 0.9393 - val_loss: 0.1453 - val_accuracy: 0.9465 - val_sparse_categorical_accuracy: 0.9465\n",
            "Epoch 5/5\n",
            "301/301 [==============================] - 1168s 4s/step - loss: 0.1588 - accuracy: 0.9420 - sparse_categorical_accuracy: 0.9420 - val_loss: 0.1370 - val_accuracy: 0.9488 - val_sparse_categorical_accuracy: 0.9488\n"
          ]
        }
      ],
      "source": [
        "history = isotope_model_large_data.fit(\n",
        "    x=X_train,\n",
        "    y=y_train,\n",
        "    batch_size=64,\n",
        "    epochs=5,\n",
        "    validation_data=(X_test, y_test)\n",
        ")"
      ]
    },
    {
      "cell_type": "code",
      "execution_count": null,
      "metadata": {
        "id": "_6FzAgF6crFM"
      },
      "outputs": [],
      "source": [
        "from sklearn.metrics import classification_report\n",
        "\n",
        "print(classification_report(\n",
        "        y_true=y_test,\n",
        "        y_pred=isotope_model_large_data.predict(X_test).argmax(axis=1),\n",
        "        labels=encoder.transform(encoder.classes_),\n",
        "        target_names=encoder.classes_))"
      ]
    }
  ],
  "metadata": {
    "colab": {
      "collapsed_sections": [],
      "name": "TER.ipynb",
      "provenance": []
    },
    "kernelspec": {
      "display_name": "Python 3.9.10 ('tumour-classification-4vNkBQWa')",
      "language": "python",
      "name": "python3"
    },
    "language_info": {
      "codemirror_mode": {
        "name": "ipython",
        "version": 3
      },
      "file_extension": ".py",
      "mimetype": "text/x-python",
      "name": "python",
      "nbconvert_exporter": "python",
      "pygments_lexer": "ipython3",
      "version": "3.9.10"
    },
    "vscode": {
      "interpreter": {
        "hash": "c38863c22f9f034f9c6eaad922782432509044dca21642c692075dc53f2846b2"
      }
    }
  },
  "nbformat": 4,
  "nbformat_minor": 0
}
